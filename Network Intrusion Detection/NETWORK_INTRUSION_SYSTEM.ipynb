{
  "cells": [
    {
      "cell_type": "code",
      "execution_count": 1,
      "metadata": {
        "id": "d6vwSL0k8sbd"
      },
      "outputs": [],
      "source": [
        "import numpy as np\n",
        "import torch\n",
        "import torchvision\n",
        "import math\n",
        "from torch.utils.data import Dataset, DataLoader\n",
        "from sklearn.model_selection import train_test_split\n",
        "import pandas as pd\n",
        "from sklearn.preprocessing import LabelEncoder\n",
        "from sklearn.preprocessing import MinMaxScaler\n",
        "import sys\n",
        "import csv\n",
        "from torchsummary import summary"
      ]
    },
    {
      "cell_type": "code",
      "execution_count": null,
      "metadata": {
        "colab": {
          "base_uri": "https://localhost:8080/"
        },
        "id": "gRVENpmVGFQn",
        "outputId": "3f02af98-7cad-4d63-a613-2d07a419c376"
      },
      "outputs": [
        {
          "output_type": "stream",
          "name": "stdout",
          "text": [
            "tensor([0.0000e+00, 5.0000e-01, 2.9231e-01, 9.0000e-01, 1.2863e-06, 0.0000e+00,\n",
            "        0.0000e+00, 0.0000e+00, 0.0000e+00, 0.0000e+00, 0.0000e+00, 0.0000e+00,\n",
            "        0.0000e+00, 0.0000e+00, 0.0000e+00, 0.0000e+00, 0.0000e+00, 0.0000e+00,\n",
            "        0.0000e+00, 0.0000e+00, 0.0000e+00, 0.0000e+00, 1.9608e-03, 1.9608e-03,\n",
            "        0.0000e+00, 0.0000e+00, 0.0000e+00, 0.0000e+00, 1.0000e+00, 0.0000e+00,\n",
            "        0.0000e+00, 5.8824e-01, 9.8039e-02, 1.7000e-01, 3.0000e-02, 1.7000e-01,\n",
            "        0.0000e+00, 0.0000e+00, 0.0000e+00, 5.0000e-02]) tensor([0., 1.])\n"
          ]
        }
      ],
      "source": [
        "class data(Dataset):\n",
        "  def __init__(self):\n",
        "    trdata=pd.read_csv('/content/Train_data.csv')\n",
        "    xy=trdata.iloc[:,:].values\n",
        "    labelen_xy=LabelEncoder()\n",
        "    xy[:,1]=labelen_xy.fit_transform(xy[:,1])\n",
        "    xy[:,2]=labelen_xy.fit_transform(xy[:,2])\n",
        "    xy[:,3]=labelen_xy.fit_transform(xy[:,3])\n",
        "    xy[:,41]=labelen_xy.fit_transform(xy[:,41])\n",
        "    xy=xy.astype('float32')\n",
        "    m=MinMaxScaler()\n",
        "    xy=m.fit_transform(xy)\n",
        "    self.x=torch.from_numpy(xy[:,0:40])\n",
        "    self.y=torch.from_numpy(xy[:,[41]])\n",
        "    self.y=self.y.long()\n",
        "    t_o=torch.zeros(len(self.y),2)\n",
        "    self.y=t_o.scatter_(1,self.y,1.0)\n",
        "    self.XY=pd.DataFrame(xy)\n",
        "    self.n_samples=xy.shape[0]\n",
        "\n",
        "  def __getitem__(self,index):\n",
        "    return self.x[index],self.y[index]\n",
        "  def __len__(self):\n",
        "    return self.n_samples\n",
        "dataset=data()\n",
        "first_data=dataset[0]\n",
        "features,labels=first_data\n",
        "print(features,labels)\n"
      ]
    },
    {
      "cell_type": "markdown",
      "metadata": {
        "id": "CZ6KlIIz5SRQ"
      },
      "source": [
        "to test one hot encoding"
      ]
    },
    {
      "cell_type": "code",
      "execution_count": null,
      "metadata": {
        "colab": {
          "base_uri": "https://localhost:8080/"
        },
        "id": "IW8fFDBw0iKz",
        "outputId": "952794d2-e1ac-4e50-f864-066622f022bb"
      },
      "outputs": [
        {
          "output_type": "stream",
          "name": "stdout",
          "text": [
            "torch.Size([25192, 1, 2])\n",
            "tensor([[[0, 1]],\n",
            "\n",
            "        [[0, 1]],\n",
            "\n",
            "        [[1, 0]],\n",
            "\n",
            "        ...,\n",
            "\n",
            "        [[1, 0]],\n",
            "\n",
            "        [[1, 0]],\n",
            "\n",
            "        [[1, 0]]])\n",
            "tensor([[1., 1.],\n",
            "        [1., 1.],\n",
            "        [1., 1.],\n",
            "        ...,\n",
            "        [1., 1.],\n",
            "        [1., 1.],\n",
            "        [1., 1.]])\n"
          ]
        }
      ],
      "source": [
        "t=dataset.y.long()\n",
        "#print(t)\n",
        "p=t.unique()\n",
        "#print(p)\n",
        "#print(len(p))\n",
        "#print(\"&&\",t.shape)\n",
        "t_o=torch.zeros(len(t),2)\n",
        "#print(t_o)\n",
        "#print(t_o.shape)\n",
        "p=t.unsqueeze(1)\n",
        "print(p.shape)\n",
        "print(p)\n",
        "r=t_o.scatter_(1,t,1.0)\n",
        "print(r)"
      ]
    },
    {
      "cell_type": "code",
      "execution_count": null,
      "metadata": {
        "colab": {
          "base_uri": "https://localhost:8080/"
        },
        "id": "gTxWhv01HXC1",
        "outputId": "e6eab629-c80b-43e9-ba07-aec86ebef733"
      },
      "outputs": [
        {
          "output_type": "execute_result",
          "data": {
            "text/plain": [
              "25192"
            ]
          },
          "metadata": {},
          "execution_count": 4
        }
      ],
      "source": [
        "len(dataset.x)"
      ]
    },
    {
      "cell_type": "code",
      "execution_count": null,
      "metadata": {
        "id": "1Ozu4v5XjcYI"
      },
      "outputs": [],
      "source": [
        "train_dataset, test_dataset = train_test_split(dataset, test_size=0.15, random_state=42)\n",
        "train_loader=DataLoader(dataset=train_dataset,shuffle=True)\n",
        "test_loader=DataLoader(dataset=test_dataset,shuffle=True)\n"
      ]
    },
    {
      "cell_type": "code",
      "execution_count": null,
      "metadata": {
        "id": "fBgM7h8faLPj"
      },
      "outputs": [],
      "source": [
        "train_loader=DataLoader(dataset=train_dataset,shuffle=True,batch_size=64)\n",
        "test_loader=DataLoader(dataset=test_dataset,shuffle=True,batch_size=63)"
      ]
    },
    {
      "cell_type": "markdown",
      "metadata": {
        "id": "SUTCA0R9uueX"
      },
      "source": [
        "FEATURE SELECTION USING AUTO ENCODER"
      ]
    },
    {
      "cell_type": "code",
      "execution_count": null,
      "metadata": {
        "id": "RYjx6A9MuWC2"
      },
      "outputs": [],
      "source": [
        "\n",
        "from torch.distributions import Normal\n",
        "import matplotlib.pyplot as plt\n",
        "import torch.nn as nn\n",
        "import torch.optim as optim\n",
        "import torch.nn.functional as F\n",
        "from torchvision.utils import make_grid\n",
        "import torchvision.transforms as transforms\n",
        "from tqdm import tqdm\n",
        "from torchvision.utils import save_image\n"
      ]
    },
    {
      "cell_type": "code",
      "execution_count": null,
      "metadata": {
        "colab": {
          "base_uri": "https://localhost:8080/"
        },
        "id": "5Rys4-v_U1Sg",
        "outputId": "033527a4-e899-4aba-bf8e-fb9f2c9db25a"
      },
      "outputs": [
        {
          "output_type": "stream",
          "name": "stdout",
          "text": [
            "cuda:0\n"
          ]
        }
      ],
      "source": [
        "device=torch.device('cuda:0' if torch.cuda.is_available() else 'cpu')\n",
        "print(device)\n",
        "host=torch.device('cpu')"
      ]
    },
    {
      "cell_type": "code",
      "execution_count": null,
      "metadata": {
        "id": "_RpHZj5gh-1k"
      },
      "outputs": [],
      "source": [
        "from torch.nn.modules.activation import Sigmoid\n",
        "class autoencoder(nn.Module):\n",
        "  def __init__(self):\n",
        "    super().__init__()\n",
        "    self.encoder=nn.Sequential(nn.Linear(40,20),\n",
        "                               nn.ReLU(),\n",
        "                               nn.Linear(20,9),\n",
        "                               nn.ReLU(),\n",
        "                               nn.Linear(9,10)\n",
        "\n",
        "                                        )\n",
        "    self.decoder=nn.Sequential(nn.Linear(10,9),\n",
        "                               nn.ReLU(),\n",
        "                               nn.Linear(9,20),\n",
        "                               nn.ReLU(),\n",
        "                               nn.Linear(20,40),\n",
        "                               nn.Sigmoid()\n",
        "                                        )\n",
        "  def forward(self,x):\n",
        "    encoded=self.encoder(x)\n",
        "    decoded=self.decoder(encoded)\n",
        "    return decoded\n",
        "  def geten(self,x):\n",
        "    encoded=self.encoder(x)\n",
        "    return encoded\n",
        "\n",
        "\n"
      ]
    },
    {
      "cell_type": "code",
      "execution_count": null,
      "metadata": {
        "id": "YhGGiWxoL37L"
      },
      "outputs": [],
      "source": [
        "model=autoencoder().to(device)\n",
        "criterion=nn.MSELoss()\n",
        "optimizer=torch.optim.Adam(model.parameters(),lr=0.001,weight_decay=1e-5)"
      ]
    },
    {
      "cell_type": "code",
      "execution_count": null,
      "metadata": {
        "colab": {
          "base_uri": "https://localhost:8080/"
        },
        "id": "jCITd0v37l6o",
        "outputId": "4acb106f-fe19-4d05-eb55-c5d6ba05efa7"
      },
      "outputs": [
        {
          "output_type": "stream",
          "name": "stdout",
          "text": [
            "----------------------------------------------------------------\n",
            "        Layer (type)               Output Shape         Param #\n",
            "================================================================\n",
            "            Linear-1               [-1, 64, 20]             820\n",
            "              ReLU-2               [-1, 64, 20]               0\n",
            "            Linear-3                [-1, 64, 9]             189\n",
            "              ReLU-4                [-1, 64, 9]               0\n",
            "            Linear-5               [-1, 64, 10]             100\n",
            "            Linear-6                [-1, 64, 9]              99\n",
            "              ReLU-7                [-1, 64, 9]               0\n",
            "            Linear-8               [-1, 64, 20]             200\n",
            "              ReLU-9               [-1, 64, 20]               0\n",
            "           Linear-10               [-1, 64, 40]             840\n",
            "          Sigmoid-11               [-1, 64, 40]               0\n",
            "================================================================\n",
            "Total params: 2,248\n",
            "Trainable params: 2,248\n",
            "Non-trainable params: 0\n",
            "----------------------------------------------------------------\n",
            "Input size (MB): 0.01\n",
            "Forward/backward pass size (MB): 0.10\n",
            "Params size (MB): 0.01\n",
            "Estimated Total Size (MB): 0.12\n",
            "----------------------------------------------------------------\n"
          ]
        }
      ],
      "source": [
        "summary(model.to(device),(64,40))"
      ]
    },
    {
      "cell_type": "code",
      "execution_count": null,
      "metadata": {
        "colab": {
          "base_uri": "https://localhost:8080/"
        },
        "id": "8ERERhKN2jRW",
        "outputId": "2cdcdedb-282c-46c2-ba3e-1c9a9a7ef230"
      },
      "outputs": [
        {
          "output_type": "stream",
          "name": "stdout",
          "text": [
            "tensor([[0.0000e+00, 5.0000e-01, 7.0769e-01,  ..., 0.0000e+00, 0.0000e+00,\n",
            "         7.6000e-01],\n",
            "        [0.0000e+00, 5.0000e-01, 3.3846e-01,  ..., 0.0000e+00, 0.0000e+00,\n",
            "         0.0000e+00],\n",
            "        [0.0000e+00, 5.0000e-01, 7.0769e-01,  ..., 1.0000e+00, 1.0000e+00,\n",
            "         0.0000e+00],\n",
            "        ...,\n",
            "        [2.3331e-05, 5.0000e-01, 7.8462e-01,  ..., 2.0000e-02, 1.0000e-02,\n",
            "         0.0000e+00],\n",
            "        [0.0000e+00, 5.0000e-01, 3.3846e-01,  ..., 1.0000e-02, 0.0000e+00,\n",
            "         0.0000e+00],\n",
            "        [0.0000e+00, 5.0000e-01, 3.3846e-01,  ..., 0.0000e+00, 0.0000e+00,\n",
            "         0.0000e+00]])\n",
            "@@@\n",
            "40\n",
            "*****\n",
            "tensor([[0.4464, 0.4892, 0.4911,  ..., 0.4594, 0.4924, 0.5363],\n",
            "        [0.4458, 0.4888, 0.4910,  ..., 0.4589, 0.4918, 0.5365],\n",
            "        [0.4469, 0.4886, 0.4922,  ..., 0.4592, 0.4922, 0.5366],\n",
            "        ...,\n",
            "        [0.4457, 0.4884, 0.4912,  ..., 0.4583, 0.4914, 0.5365],\n",
            "        [0.4457, 0.4888, 0.4909,  ..., 0.4587, 0.4917, 0.5364],\n",
            "        [0.4457, 0.4887, 0.4909,  ..., 0.4583, 0.4915, 0.5362]],\n",
            "       device='cuda:0', grad_fn=<SigmoidBackward0>)\n"
          ]
        }
      ],
      "source": [
        "for d,w in train_loader:\n",
        "  print(d)\n",
        "  print(\"@@@\")\n",
        "  print(len(d[0]))\n",
        "  d=d.to(device)\n",
        "  y=model(d)\n",
        "  print(\"*****\")\n",
        "  print(y)\n",
        "  break"
      ]
    },
    {
      "cell_type": "markdown",
      "metadata": {
        "id": "bVhs3tCuRR79"
      },
      "source": [
        "AUTOENCODER TRAINING"
      ]
    },
    {
      "cell_type": "code",
      "execution_count": null,
      "metadata": {
        "colab": {
          "base_uri": "https://localhost:8080/"
        },
        "id": "tknWFqmxRRXp",
        "outputId": "fb7e64f9-a49f-4e24-8f20-537c379f18b7"
      },
      "outputs": [
        {
          "output_type": "stream",
          "name": "stdout",
          "text": [
            "Epoch:0,Loss:0.0917\n",
            "Epoch:5,Loss:0.0123\n",
            "Epoch:10,Loss:0.0099\n",
            "Epoch:15,Loss:0.0083\n",
            "Epoch:20,Loss:0.0074\n",
            "Epoch:25,Loss:0.0069\n",
            "Epoch:30,Loss:0.0062\n",
            "Epoch:35,Loss:0.0057\n",
            "Epoch:40,Loss:0.0053\n",
            "Epoch:45,Loss:0.0050\n"
          ]
        }
      ],
      "source": [
        "nepoch=50\n",
        "output=[]\n",
        "ls=[]\n",
        "lo=0\n",
        "i=0\n",
        "for epoch in range (nepoch):\n",
        "  lo=0\n",
        "  i=0\n",
        "  for d,w in train_loader:\n",
        "    i+=1\n",
        "    d = d.to(device)\n",
        "    o=model.forward(d)\n",
        "    loss=criterion(o,d)\n",
        "    lo+=loss\n",
        "    optimizer.zero_grad()\n",
        "    loss.backward()\n",
        "    optimizer.step()\n",
        "  lo=lo/i\n",
        "  ls.append(lo)\n",
        "  if(epoch%5==0):\n",
        "    print(f'Epoch:{epoch},Loss:{lo:.4f}')\n",
        "\n",
        "\n",
        "\n"
      ]
    },
    {
      "cell_type": "markdown",
      "metadata": {
        "id": "SZLWOHtBm3bs"
      },
      "source": [
        "TO SAVE THE MODEL(EASY WAY)"
      ]
    },
    {
      "cell_type": "code",
      "source": [
        "from google.colab import drive\n",
        "drive.mount('/content/drive')"
      ],
      "metadata": {
        "colab": {
          "base_uri": "https://localhost:8080/"
        },
        "id": "hnowf3pLxERK",
        "outputId": "bca9ef2a-6fa4-421b-f616-5d69da6d87ac"
      },
      "execution_count": null,
      "outputs": [
        {
          "output_type": "stream",
          "name": "stdout",
          "text": [
            "Mounted at /content/drive\n"
          ]
        }
      ]
    },
    {
      "cell_type": "code",
      "execution_count": null,
      "metadata": {
        "id": "PsUwMo3GlpdU"
      },
      "outputs": [],
      "source": [
        "torch.save(model,'/content/drive/MyDrive/model.ptf')\n"
      ]
    },
    {
      "cell_type": "code",
      "execution_count": null,
      "metadata": {
        "id": "HZ0FRY45l_Oe"
      },
      "outputs": [],
      "source": [
        "model=torch.load('/content/drive/MyDrive/model.ptf')\n"
      ]
    },
    {
      "cell_type": "code",
      "execution_count": null,
      "metadata": {
        "colab": {
          "base_uri": "https://localhost:8080/"
        },
        "id": "JN_fNQ1YmIbl",
        "outputId": "b5eebf7c-8e38-4dbe-c6f1-a2a7a0b125a3"
      },
      "outputs": [
        {
          "output_type": "execute_result",
          "data": {
            "text/plain": [
              "autoencoder(\n",
              "  (encoder): Sequential(\n",
              "    (0): Linear(in_features=40, out_features=20, bias=True)\n",
              "    (1): ReLU()\n",
              "    (2): Linear(in_features=20, out_features=9, bias=True)\n",
              "    (3): ReLU()\n",
              "    (4): Linear(in_features=9, out_features=10, bias=True)\n",
              "  )\n",
              "  (decoder): Sequential(\n",
              "    (0): Linear(in_features=10, out_features=9, bias=True)\n",
              "    (1): ReLU()\n",
              "    (2): Linear(in_features=9, out_features=20, bias=True)\n",
              "    (3): ReLU()\n",
              "    (4): Linear(in_features=20, out_features=40, bias=True)\n",
              "    (5): Sigmoid()\n",
              "  )\n",
              ")"
            ]
          },
          "metadata": {},
          "execution_count": 21
        }
      ],
      "source": [
        "model.eval()"
      ]
    },
    {
      "cell_type": "markdown",
      "metadata": {
        "id": "pZXxo05ojYHG"
      },
      "source": [
        "TO SAVE"
      ]
    },
    {
      "cell_type": "code",
      "execution_count": null,
      "metadata": {
        "colab": {
          "base_uri": "https://localhost:8080/"
        },
        "id": "CeEfnPFlUKML",
        "outputId": "f28b90cb-6b3f-41b1-cd24-de996aed6e91"
      },
      "outputs": [
        {
          "output_type": "stream",
          "name": "stdout",
          "text": [
            "tensor([0.0000e+00, 0.0000e+00, 2.1538e-01, 9.0000e-01, 2.7036e-06, 0.0000e+00,\n",
            "        0.0000e+00, 0.0000e+00, 0.0000e+00, 0.0000e+00, 0.0000e+00, 0.0000e+00,\n",
            "        0.0000e+00, 0.0000e+00, 0.0000e+00, 0.0000e+00, 0.0000e+00, 0.0000e+00,\n",
            "        0.0000e+00, 0.0000e+00, 0.0000e+00, 0.0000e+00, 2.3529e-02, 2.3529e-02,\n",
            "        0.0000e+00, 0.0000e+00, 0.0000e+00, 0.0000e+00, 1.0000e+00, 0.0000e+00,\n",
            "        0.0000e+00, 1.0000e+00, 1.0000e+00, 1.0000e+00, 0.0000e+00, 1.0000e+00,\n",
            "        0.0000e+00, 0.0000e+00, 0.0000e+00, 0.0000e+00])\n"
          ]
        }
      ],
      "source": [
        "print(test_dataset[0][0])"
      ]
    },
    {
      "cell_type": "markdown",
      "metadata": {
        "id": "5h-lumxiZJkG"
      },
      "source": [
        "ENCODER VALUE"
      ]
    },
    {
      "cell_type": "code",
      "execution_count": null,
      "metadata": {
        "id": "4TOlyreN_iXE"
      },
      "outputs": [],
      "source": [
        "class mainm(nn.Module):\n",
        "  def __init__(self):\n",
        "    super().__init__()\n",
        "    self.sath=nn.Sequential(nn.Linear(10,25),\n",
        "                         nn.ReLU(),\n",
        "                         nn.Linear(25,40),\n",
        "                         nn.ReLU(),\n",
        "                         nn.Linear(40,30),\n",
        "                         nn.ReLU(),\n",
        "                         nn.Linear(30,30),\n",
        "                         nn.ReLU(),\n",
        "                         nn.Linear(30,30),\n",
        "                         nn.ReLU(),\n",
        "                         nn.Linear(30,30),\n",
        "                         nn.ReLU(),\n",
        "                         nn.Linear(30,10),\n",
        "                         nn.ReLU(),\n",
        "                         nn.Linear(10,5),\n",
        "                         nn.ReLU(),\n",
        "                         nn.Linear(5,2),\n",
        "                         nn.Softmax()\n",
        "                                        )\n",
        "\n",
        "  def forward(self,x):\n",
        "    out=self.sath(x)\n",
        "    return out"
      ]
    },
    {
      "cell_type": "code",
      "execution_count": null,
      "metadata": {
        "id": "VaS6Pt-yqoeQ"
      },
      "outputs": [],
      "source": [
        "class mainmodel(nn.Module):\n",
        "  def __init__(self):\n",
        "    super().__init__()\n",
        "    self.sath=nn.Sequential(nn.Linear(10,20),\n",
        "                         nn.ReLU(),\n",
        "                         nn.Linear(20,10),\n",
        "                         nn.ReLU(),\n",
        "                         nn.Linear(10,10),\n",
        "                         nn.ReLU(),\n",
        "                         nn.Linear(10,6),\n",
        "                         nn.ReLU(),\n",
        "                         nn.Linear(6,2)\n",
        "                         ,\n",
        "                         nn.Sigmoid()\n",
        "\n",
        "                                        )\n",
        "\n",
        "  def forward(self,x):\n",
        "    out=self.sath(x)\n",
        "    return out"
      ]
    },
    {
      "cell_type": "code",
      "execution_count": null,
      "metadata": {
        "id": "IAfGAbCAuWGZ"
      },
      "outputs": [],
      "source": [
        "mmodel=mainm().to(device)\n",
        "criterion=nn.CrossEntropyLoss()\n",
        "optimizer=torch.optim.Adam(mmodel.parameters(),lr=0.001,weight_decay=0.000001)"
      ]
    },
    {
      "cell_type": "markdown",
      "metadata": {
        "id": "HMYE0Q_l5eYb"
      },
      "source": [
        "TRAINING THE MAIN MODEL"
      ]
    },
    {
      "cell_type": "code",
      "execution_count": null,
      "metadata": {
        "colab": {
          "base_uri": "https://localhost:8080/"
        },
        "id": "DlhIAC1B5_mt",
        "outputId": "074259ef-2be8-4edd-d423-6e8cf4fd6335"
      },
      "outputs": [
        {
          "output_type": "stream",
          "name": "stdout",
          "text": [
            "tensor([1., 0.])\n"
          ]
        }
      ],
      "source": [
        "print(train_dataset[0][1])"
      ]
    },
    {
      "cell_type": "code",
      "execution_count": null,
      "metadata": {
        "id": "KCoM8qV5TveZ"
      },
      "outputs": [],
      "source": [
        "def accuracy(outputs, labels):\n",
        "    preds = torch.max(outputs,dim=1)\n",
        "    L=torch.max(labels,dim=1)\n",
        "    return torch.tensor(torch.sum(preds[1] == L[1]).item() / len(preds[1]))*100"
      ]
    },
    {
      "cell_type": "code",
      "execution_count": null,
      "metadata": {
        "colab": {
          "base_uri": "https://localhost:8080/"
        },
        "id": "UQ4JFSKJu1WN",
        "outputId": "ecef9914-6ce5-4553-a0f2-a5faa795faa1"
      },
      "outputs": [
        {
          "output_type": "stream",
          "name": "stderr",
          "text": [
            "/usr/local/lib/python3.10/dist-packages/torch/nn/modules/module.py:1532: UserWarning: Implicit dimension choice for softmax has been deprecated. Change the call to include dim=X as an argument.\n",
            "  return self._call_impl(*args, **kwargs)\n"
          ]
        },
        {
          "output_type": "stream",
          "name": "stdout",
          "text": [
            "Epoch:4,Loss:0.4314,TRAIN_ACCURACY:90.37225341796875% lenght=37\n",
            "Epoch:4,Loss:0.4140,VAL_ACCURACY:91.21480560302734% \n",
            "Epoch:9,Loss:0.3943,TRAIN_ACCURACY:90.38158416748047% lenght=37\n",
            "Epoch:9,Loss:0.3939,VAL_ACCURACY:91.24124908447266% \n",
            "Epoch:14,Loss:0.4214,TRAIN_ACCURACY:90.35018920898438% lenght=37\n",
            "Epoch:14,Loss:0.4423,VAL_ACCURACY:91.37224578857422% \n",
            "Epoch:19,Loss:0.3943,TRAIN_ACCURACY:90.35826110839844% lenght=37\n",
            "Epoch:19,Loss:0.3616,VAL_ACCURACY:91.40083312988281% \n",
            "Epoch:24,Loss:0.3673,TRAIN_ACCURACY:90.48759460449219% lenght=37\n",
            "Epoch:24,Loss:0.4402,VAL_ACCURACY:91.37223052978516% \n",
            "Epoch:29,Loss:0.3943,TRAIN_ACCURACY:90.47953033447266% lenght=37\n",
            "Epoch:29,Loss:0.4550,VAL_ACCURACY:91.42472839355469% \n",
            "Epoch:34,Loss:0.4484,TRAIN_ACCURACY:90.60331726074219% lenght=37\n",
            "Epoch:34,Loss:0.3778,VAL_ACCURACY:91.50621795654297% \n",
            "Epoch:39,Loss:0.3673,TRAIN_ACCURACY:90.60419464111328% lenght=37\n",
            "Epoch:39,Loss:0.4584,VAL_ACCURACY:91.5305404663086% \n",
            "Epoch:44,Loss:0.3943,TRAIN_ACCURACY:90.80136108398438% lenght=37\n",
            "Epoch:44,Loss:0.3617,VAL_ACCURACY:91.42726135253906% \n",
            "Epoch:49,Loss:0.3654,TRAIN_ACCURACY:91.88684844970703% lenght=37\n",
            "Epoch:49,Loss:0.3778,VAL_ACCURACY:93.38452911376953% \n",
            "Epoch:54,Loss:0.3673,TRAIN_ACCURACY:93.30009460449219% lenght=37\n",
            "Epoch:54,Loss:0.3506,VAL_ACCURACY:94.23196411132812% \n",
            "Epoch:59,Loss:0.3943,TRAIN_ACCURACY:93.04949188232422% lenght=37\n",
            "Epoch:59,Loss:0.3616,VAL_ACCURACY:93.99341583251953% \n",
            "Epoch:64,Loss:0.3943,TRAIN_ACCURACY:93.53923034667969% lenght=37\n",
            "Epoch:64,Loss:0.3617,VAL_ACCURACY:94.15214538574219% \n",
            "Epoch:69,Loss:0.3943,TRAIN_ACCURACY:93.37132263183594% lenght=37\n",
            "Epoch:69,Loss:0.3455,VAL_ACCURACY:94.44361114501953% \n",
            "Epoch:74,Loss:0.3403,TRAIN_ACCURACY:93.31748962402344% lenght=37\n",
            "Epoch:74,Loss:0.3133,VAL_ACCURACY:94.47090148925781% \n",
            "Epoch:79,Loss:0.3943,TRAIN_ACCURACY:93.58587646484375% lenght=37\n",
            "Epoch:79,Loss:0.3747,VAL_ACCURACY:94.49565124511719% \n",
            "Epoch:84,Loss:0.3403,TRAIN_ACCURACY:93.387451171875% lenght=37\n",
            "Epoch:84,Loss:0.3456,VAL_ACCURACY:94.3113021850586% \n",
            "Epoch:89,Loss:0.3133,TRAIN_ACCURACY:93.4188461303711% lenght=37\n",
            "Epoch:89,Loss:0.3651,VAL_ACCURACY:94.20462036132812% \n",
            "Epoch:94,Loss:0.3943,TRAIN_ACCURACY:93.68848419189453% lenght=37\n",
            "Epoch:94,Loss:0.4229,VAL_ACCURACY:94.60018157958984% \n",
            "Epoch:99,Loss:0.3673,TRAIN_ACCURACY:93.48199462890625% lenght=37\n",
            "Epoch:99,Loss:0.3455,VAL_ACCURACY:94.65522003173828% \n",
            "Epoch:104,Loss:0.4199,TRAIN_ACCURACY:93.62444305419922% lenght=37\n",
            "Epoch:104,Loss:0.3769,VAL_ACCURACY:94.33690643310547% \n",
            "Epoch:109,Loss:0.3673,TRAIN_ACCURACY:93.52864074707031% lenght=37\n",
            "Epoch:109,Loss:0.3939,VAL_ACCURACY:94.68038177490234% \n",
            "Epoch:114,Loss:0.3972,TRAIN_ACCURACY:92.92822265625% lenght=37\n",
            "Epoch:114,Loss:0.3616,VAL_ACCURACY:94.04633331298828% \n",
            "Epoch:119,Loss:0.4214,TRAIN_ACCURACY:93.63843536376953% lenght=37\n",
            "Epoch:119,Loss:0.3470,VAL_ACCURACY:94.89331817626953% \n",
            "Epoch:124,Loss:0.4214,TRAIN_ACCURACY:93.75970458984375% lenght=37\n",
            "Epoch:124,Loss:0.3778,VAL_ACCURACY:94.68081665039062% \n",
            "Epoch:129,Loss:0.3943,TRAIN_ACCURACY:93.65583801269531% lenght=37\n",
            "Epoch:129,Loss:0.3313,VAL_ACCURACY:94.0207290649414% \n",
            "Epoch:134,Loss:0.3944,TRAIN_ACCURACY:93.72579956054688% lenght=37\n",
            "Epoch:134,Loss:0.3939,VAL_ACCURACY:94.62751007080078% \n",
            "Epoch:139,Loss:0.3403,TRAIN_ACCURACY:93.6812973022461% lenght=37\n",
            "Epoch:139,Loss:0.4120,VAL_ACCURACY:94.81226348876953% \n",
            "Epoch:144,Loss:0.3133,TRAIN_ACCURACY:93.80130767822266% lenght=37\n",
            "Epoch:144,Loss:0.3713,VAL_ACCURACY:94.86601257324219% \n",
            "Epoch:149,Loss:0.3403,TRAIN_ACCURACY:93.57402038574219% lenght=37\n",
            "Epoch:149,Loss:0.3617,VAL_ACCURACY:94.52254486083984% \n",
            "Epoch:154,Loss:0.3684,TRAIN_ACCURACY:93.71054077148438% lenght=37\n",
            "Epoch:154,Loss:0.3617,VAL_ACCURACY:94.83999633789062% \n",
            "Epoch:159,Loss:0.3712,TRAIN_ACCURACY:93.2208023071289% lenght=37\n",
            "Epoch:159,Loss:0.4263,VAL_ACCURACY:94.30917358398438% \n",
            "Epoch:164,Loss:0.3674,TRAIN_ACCURACY:93.65923309326172% lenght=37\n",
            "Epoch:164,Loss:0.3778,VAL_ACCURACY:94.68082427978516% \n",
            "Epoch:169,Loss:0.3133,TRAIN_ACCURACY:93.71268463134766% lenght=37\n",
            "Epoch:169,Loss:0.3778,VAL_ACCURACY:94.70729064941406% \n",
            "Epoch:174,Loss:0.3673,TRAIN_ACCURACY:93.66856384277344% lenght=37\n",
            "Epoch:174,Loss:0.3794,VAL_ACCURACY:94.8131103515625% \n",
            "Epoch:179,Loss:0.3403,TRAIN_ACCURACY:93.699951171875% lenght=37\n",
            "Epoch:179,Loss:0.3941,VAL_ACCURACY:94.5481185913086% \n",
            "Epoch:184,Loss:0.3673,TRAIN_ACCURACY:93.8458023071289% lenght=37\n",
            "Epoch:184,Loss:0.3778,VAL_ACCURACY:94.83956146240234% \n",
            "Epoch:189,Loss:0.4657,TRAIN_ACCURACY:93.84618377685547% lenght=37\n",
            "Epoch:189,Loss:0.3677,VAL_ACCURACY:94.60147094726562% \n",
            "Epoch:194,Loss:0.4214,TRAIN_ACCURACY:93.8110122680664% lenght=37\n",
            "Epoch:194,Loss:0.3750,VAL_ACCURACY:94.70728302001953% \n",
            "Epoch:199,Loss:0.3674,TRAIN_ACCURACY:93.8271484375% lenght=37\n",
            "Epoch:199,Loss:0.3133,VAL_ACCURACY:94.97354125976562% \n",
            "Epoch:204,Loss:0.3673,TRAIN_ACCURACY:93.78050231933594% lenght=37\n",
            "Epoch:204,Loss:0.3778,VAL_ACCURACY:94.97183227539062% \n",
            "Epoch:209,Loss:0.3133,TRAIN_ACCURACY:93.79663848876953% lenght=37\n",
            "Epoch:209,Loss:0.3644,VAL_ACCURACY:95.10456085205078% \n",
            "Epoch:214,Loss:0.3673,TRAIN_ACCURACY:93.70121002197266% lenght=37\n",
            "Epoch:214,Loss:0.3942,VAL_ACCURACY:94.78622436523438% \n",
            "Epoch:219,Loss:0.4045,TRAIN_ACCURACY:93.87039184570312% lenght=37\n",
            "Epoch:219,Loss:0.3455,VAL_ACCURACY:94.89332580566406% \n",
            "Epoch:224,Loss:0.3403,TRAIN_ACCURACY:93.87252807617188% lenght=37\n",
            "Epoch:224,Loss:0.3643,VAL_ACCURACY:94.83998107910156% \n",
            "Epoch:229,Loss:0.3673,TRAIN_ACCURACY:93.80848693847656% lenght=37\n",
            "Epoch:229,Loss:0.3778,VAL_ACCURACY:94.83956146240234% \n",
            "Epoch:234,Loss:0.3403,TRAIN_ACCURACY:93.63932037353516% lenght=37\n",
            "Epoch:234,Loss:0.3455,VAL_ACCURACY:94.9197769165039% \n",
            "Epoch:239,Loss:0.4214,TRAIN_ACCURACY:93.82967376708984% lenght=37\n",
            "Epoch:239,Loss:0.3617,VAL_ACCURACY:94.91934204101562% \n",
            "Epoch:244,Loss:0.4214,TRAIN_ACCURACY:93.71306610107422% lenght=37\n",
            "Epoch:244,Loss:0.4423,VAL_ACCURACY:94.97010803222656% \n",
            "Epoch:249,Loss:0.3673,TRAIN_ACCURACY:93.89710998535156% lenght=37\n",
            "Epoch:249,Loss:0.3455,VAL_ACCURACY:94.86685943603516% \n",
            "Epoch:254,Loss:0.3947,TRAIN_ACCURACY:93.7537841796875% lenght=37\n",
            "Epoch:254,Loss:0.3455,VAL_ACCURACY:94.81394958496094% \n",
            "Epoch:259,Loss:0.3943,TRAIN_ACCURACY:93.81908416748047% lenght=37\n",
            "Epoch:259,Loss:0.3455,VAL_ACCURACY:94.81394958496094% \n",
            "Epoch:264,Loss:0.3403,TRAIN_ACCURACY:93.86786651611328% lenght=37\n",
            "Epoch:264,Loss:0.3643,VAL_ACCURACY:94.8664321899414% \n",
            "Epoch:269,Loss:0.3943,TRAIN_ACCURACY:93.55322265625% lenght=37\n",
            "Epoch:269,Loss:0.3654,VAL_ACCURACY:94.70771789550781% \n",
            "Epoch:274,Loss:0.3403,TRAIN_ACCURACY:93.84454345703125% lenght=37\n",
            "Epoch:274,Loss:0.3294,VAL_ACCURACY:94.99956512451172% \n",
            "Epoch:279,Loss:0.3133,TRAIN_ACCURACY:93.92257690429688% lenght=37\n",
            "Epoch:279,Loss:0.3455,VAL_ACCURACY:94.94624328613281% \n",
            "Epoch:284,Loss:0.3349,TRAIN_ACCURACY:93.9005126953125% lenght=37\n",
            "Epoch:284,Loss:0.4004,VAL_ACCURACY:95.10368347167969% \n",
            "Epoch:289,Loss:0.3943,TRAIN_ACCURACY:93.80042266845703% lenght=37\n",
            "Epoch:289,Loss:0.3455,VAL_ACCURACY:94.91976928710938% \n",
            "Epoch:294,Loss:0.3673,TRAIN_ACCURACY:93.92042541503906% lenght=37\n",
            "Epoch:294,Loss:0.3938,VAL_ACCURACY:95.0243148803711% \n",
            "Epoch:299,Loss:0.3133,TRAIN_ACCURACY:93.99720001220703% lenght=37\n",
            "Epoch:299,Loss:0.3543,VAL_ACCURACY:95.07808685302734% \n"
          ]
        }
      ],
      "source": [
        "nepoch=300\n",
        "output=[]\n",
        "plottr=[]\n",
        "plotts=[]\n",
        "losstr=[]\n",
        "lossts=[]\n",
        "lss=0\n",
        "acc=0\n",
        "for epoch in range (nepoch):\n",
        "  acc=0\n",
        "  lss=0\n",
        "  i=0\n",
        "  for d,w in train_loader:\n",
        "    i+=1\n",
        "    d = d.to(device)\n",
        "    w = w.to(device)\n",
        "    l=model.geten(d)\n",
        "    o=mmodel(l)\n",
        "    loss=criterion(o,w)\n",
        "    lss+=loss\n",
        "    acc+=accuracy(o,w)\n",
        "    optimizer.zero_grad()\n",
        "    loss.backward()\n",
        "    optimizer.step()\n",
        "  lss=lss/i\n",
        "  acc=acc/i\n",
        "  plottr.append(acc)\n",
        "  losstr.append(lss)\n",
        "  if((epoch+1)%5==0):\n",
        "    print(f'Epoch:{epoch},Loss:{loss.item():.4f},TRAIN_ACCURACY:{acc}% lenght={len(w)}')\n",
        "  i=0\n",
        "  acc=0\n",
        "  lss=0\n",
        "  for d,w in test_loader:\n",
        "    i+=1\n",
        "    d = d.to(device)\n",
        "    w = w.to(device)\n",
        "\n",
        "    l=model.geten(d)\n",
        "\n",
        "    o=mmodel(l)\n",
        "    loss=criterion(o,w)\n",
        "    lss+=loss\n",
        "    acc+=accuracy(o,w)\n",
        "  lss=lss/i\n",
        "  acc=acc/i\n",
        "  lossts.append(lss)\n",
        "  plotts.append(acc)\n",
        "  if((epoch+1)%5==0):\n",
        "    print(f'Epoch:{epoch},Loss:{loss.item():.4f},VAL_ACCURACY:{acc}% ')"
      ]
    },
    {
      "cell_type": "code",
      "source": [
        "epochs = range(1, nepoch + 1)"
      ],
      "metadata": {
        "id": "yzDkXJJpz9ZC"
      },
      "execution_count": null,
      "outputs": []
    },
    {
      "cell_type": "code",
      "execution_count": null,
      "metadata": {
        "colab": {
          "base_uri": "https://localhost:8080/",
          "height": 430
        },
        "id": "FXzwu4AHLHc6",
        "outputId": "e3b31c74-b5a2-40b6-fe70-cb0e7f49327d"
      },
      "outputs": [
        {
          "output_type": "display_data",
          "data": {
            "text/plain": [
              "<Figure size 640x480 with 1 Axes>"
            ],
            "image/png": "[encoded data removed]"
          },
          "metadata": {}
        }
      ],
      "source": [
        "plt.plot(plottr,label='Training accuracy')\n",
        "plt.plot(plotts,label='Testing accuracy')\n",
        "plt.legend(frameon=False)\n",
        "plt.show()"
      ]
    },
    {
      "cell_type": "code",
      "execution_count": null,
      "metadata": {
        "colab": {
          "base_uri": "https://localhost:8080/",
          "height": 472
        },
        "id": "j5J4cn0Nbq1n",
        "outputId": "eb2b2b9a-9ce3-4a42-99bc-dad4a6e4743e"
      },
      "outputs": [
        {
          "output_type": "display_data",
          "data": {
            "text/plain": [
              "<Figure size 640x480 with 1 Axes>"
            ],
            "image/png": "[encoded data removed]"
          },
          "metadata": {}
        }
      ],
      "source": [
        "epochs = np.arange(1, nepoch + 1)\n",
        "losstr_cpu = [l.item() for l in losstr]\n",
        "lossts_cpu = [l.item() for l in lossts]\n",
        "\n",
        "plt.plot(epochs, losstr_cpu, label='Training loss')\n",
        "plt.plot(epochs, lossts_cpu, label='Testing loss')\n",
        "plt.xlabel('Epoch')\n",
        "plt.ylabel('Loss')\n",
        "plt.title('Training and Testing Losses')\n",
        "plt.legend()\n",
        "plt.grid(True)\n",
        "plt.show()"
      ]
    },
    {
      "cell_type": "code",
      "execution_count": null,
      "metadata": {
        "colab": {
          "base_uri": "https://localhost:8080/"
        },
        "id": "Igxi8lSB-cxm",
        "outputId": "f8c0edfe-e13c-48b4-e559-27c7f7232539"
      },
      "outputs": [
        {
          "output_type": "stream",
          "name": "stdout",
          "text": [
            "torch.return_types.max(\n",
            "values=tensor([0.7000, 0.9000, 0.7000, 0.8000, 0.8000]),\n",
            "indices=tensor([0, 0, 1, 0, 1]))\n",
            "torch.return_types.max(\n",
            "values=tensor([1, 1, 1, 1, 1]),\n",
            "indices=tensor([0, 1, 1, 0, 1]))\n",
            "tensor(0.8000)\n"
          ]
        }
      ],
      "source": [
        "a=torch.tensor([[1,0],[0,1],[0,1],[1,0],[0,1]])\n",
        "b=torch.tensor([[0.7,0.3],[0.9,0.4],[0.1,0.7],[0.8,0.5],[0.6,0.8]])\n",
        "preds = torch.max(b,dim=1)\n",
        "p=torch.max(a,dim=1)\n",
        "print(preds)\n",
        "print(p)\n",
        "E=torch.tensor(torch.sum(preds[1] == p[1]).item() / len(preds[1]))\n",
        "print(E)"
      ]
    },
    {
      "cell_type": "markdown",
      "metadata": {
        "id": "ikETFo9nFtKT"
      },
      "source": [
        "SAVE MAIN MODEL"
      ]
    },
    {
      "cell_type": "code",
      "execution_count": null,
      "metadata": {
        "id": "HQSyaTjQ-v6h"
      },
      "outputs": [],
      "source": [
        "torch.save(mmodel,'/content/drive/MyDrive/ofcmodel')"
      ]
    },
    {
      "cell_type": "markdown",
      "source": [
        "cpu"
      ],
      "metadata": {
        "id": "Et6ErfGl3dId"
      }
    },
    {
      "cell_type": "code",
      "execution_count": null,
      "metadata": {
        "id": "o95bLiXCGXjP"
      },
      "outputs": [],
      "source": [
        "mmodel=torch.load('/content/drive/MyDrive/ofcmodel')"
      ]
    },
    {
      "cell_type": "markdown",
      "metadata": {
        "id": "nQ01TLi1q2q3"
      },
      "source": [
        "PREDICTION FUNCTION"
      ]
    },
    {
      "cell_type": "code",
      "execution_count": null,
      "metadata": {
        "colab": {
          "base_uri": "https://localhost:8080/"
        },
        "id": "dG91wwGBq6R8",
        "outputId": "e0310e8b-e98f-416d-d698-f96a9fec8d2b"
      },
      "outputs": [
        {
          "output_type": "stream",
          "name": "stdout",
          "text": [
            "ANAMOLY\n",
            "tensor([1.0000e+00, 1.2885e-15], device='cuda:0', grad_fn=<SoftmaxBackward0>)\n"
          ]
        }
      ],
      "source": [
        "tr=torch.Tensor([1,1,2,0,0,0,0,0,1,0,1,0,0,0,0,0,1,0,0,0,1,1,1,1,0,0,1,0,1,0,0,1,0,0,0,0,0,0,0,0])\n",
        "tr=tr.to(device)\n",
        "p=model.geten(tr)\n",
        "pt=mmodel(p)\n",
        "if(pt[0]==1):\n",
        "  print(\"ANAMOLY\")\n",
        "else:\n",
        "  print(\"NORMAL\")\n",
        "print(pt)"
      ]
    },
    {
      "cell_type": "code",
      "source": [
        "import pandas as pd\n",
        "import torch\n",
        "from torch.utils.data import DataLoader, Dataset\n",
        "import torch.nn as nn\n",
        "import torch.nn.functional as F\n",
        "\n",
        "class CustomDataset(Dataset):\n",
        "    def __init__(self, csv_file, transform=None):\n",
        "        self.data = pd.read_csv(csv_file)\n",
        "        self.transform = transform\n",
        "\n",
        "        self.data = pd.get_dummies(self.data)\n",
        "\n",
        "    def __len__(self):\n",
        "        return len(self.data)\n",
        "\n",
        "    def __getitem__(self, idx):\n",
        "        sample = self.data.iloc[idx]\n",
        "\n",
        "        values = sample.values.astype('float32')\n",
        "        X = torch.tensor(values, dtype=torch.float32)\n",
        "\n",
        "        if self.transform:\n",
        "            X = self.transform(X)\n",
        "\n",
        "        return X\n",
        "\n",
        "test_csv_path = '/content/Test_data.csv'\n",
        "transform = None\n",
        "\n",
        "test_dataset = CustomDataset(test_csv_path, transform=transform)\n",
        "\n",
        "batch_size = 32\n",
        "test_loader = DataLoader(test_dataset, batch_size=batch_size, shuffle=False)\n",
        "\n",
        "device = torch.device('cuda' if torch.cuda.is_available() else 'cpu')\n",
        "\n",
        "class AutoEncoder(nn.Module):\n",
        "    def __init__(self):\n",
        "        super(AutoEncoder, self).__init__()\n",
        "        self.encoder = nn.Linear(116, 40)\n",
        "        self.decoder = nn.Linear(40, 116)\n",
        "\n",
        "    def forward(self, x):\n",
        "        x = self.encoder(x)\n",
        "        x = F.relu(x)\n",
        "        x = self.decoder(x)\n",
        "        return x\n",
        "\n",
        "model = AutoEncoder().to(device)\n",
        "model.eval()\n",
        "\n",
        "anomaly_scores = []\n",
        "\n",
        "for d in test_loader:\n",
        "    d = d.to(device)\n",
        "    with torch.no_grad():\n",
        "        score = model(d)\n",
        "        anomaly_scores.append(score)\n",
        "\n",
        "anomaly_scores_tensor = torch.cat(anomaly_scores, dim=0)\n",
        "\n",
        "anomaly_threshold = 0.5\n",
        "\n",
        "anomalies = anomaly_scores_tensor > anomaly_threshold\n",
        "\n",
        "print(\"Detected anomalies:\")\n",
        "print(anomalies)\n"
      ],
      "metadata": {
        "colab": {
          "base_uri": "https://localhost:8080/"
        },
        "id": "h2vuASlw1PYM",
        "outputId": "2848c97b-6595-4fe8-aacd-cdb8909d3a74"
      },
      "execution_count": null,
      "outputs": [
        {
          "output_type": "stream",
          "name": "stdout",
          "text": [
            "Detected anomalies:\n",
            "tensor([[ True, False,  True,  ..., False,  True,  True],\n",
            "        [ True, False,  True,  ..., False,  True, False],\n",
            "        [False, False,  True,  ...,  True,  True,  True],\n",
            "        ...,\n",
            "        [False, False,  True,  ...,  True,  True,  True],\n",
            "        [ True, False,  True,  ..., False,  True,  True],\n",
            "        [ True, False,  True,  ..., False,  True, False]], device='cuda:0')\n"
          ]
        }
      ]
    },
    {
      "cell_type": "code",
      "execution_count": null,
      "metadata": {
        "colab": {
          "base_uri": "https://localhost:8080/"
        },
        "id": "G8fi6y6GmU-p",
        "outputId": "63decdb5-c377-4465-a846-847764168c0c"
      },
      "outputs": [
        {
          "output_type": "execute_result",
          "data": {
            "text/plain": [
              "mainm(\n",
              "  (sath): Sequential(\n",
              "    (0): Linear(in_features=10, out_features=25, bias=True)\n",
              "    (1): ReLU()\n",
              "    (2): Linear(in_features=25, out_features=40, bias=True)\n",
              "    (3): ReLU()\n",
              "    (4): Linear(in_features=40, out_features=30, bias=True)\n",
              "    (5): ReLU()\n",
              "    (6): Linear(in_features=30, out_features=30, bias=True)\n",
              "    (7): ReLU()\n",
              "    (8): Linear(in_features=30, out_features=30, bias=True)\n",
              "    (9): ReLU()\n",
              "    (10): Linear(in_features=30, out_features=30, bias=True)\n",
              "    (11): ReLU()\n",
              "    (12): Linear(in_features=30, out_features=10, bias=True)\n",
              "    (13): ReLU()\n",
              "    (14): Linear(in_features=10, out_features=5, bias=True)\n",
              "    (15): ReLU()\n",
              "    (16): Linear(in_features=5, out_features=2, bias=True)\n",
              "    (17): Softmax(dim=None)\n",
              "  )\n",
              ")"
            ]
          },
          "metadata": {},
          "execution_count": 56
        }
      ],
      "source": [
        "mmodel.eval()"
      ]
    }
  ],
  "metadata": {
    "accelerator": "GPU",
    "colab": {
      "provenance": []
    },
    "kernelspec": {
      "display_name": "Python 3",
      "name": "python3"
    },
    "language_info": {
      "name": "python"
    }
  },
  "nbformat": 4,
  "nbformat_minor": 0
}